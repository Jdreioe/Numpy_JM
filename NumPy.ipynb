{
  "nbformat": 4,
  "nbformat_minor": 0,
  "metadata": {
    "colab": {
      "name": "NumPy.ipynb",
      "provenance": [],
      "collapsed_sections": [],
      "toc_visible": true,
      "include_colab_link": true
    },
    "kernelspec": {
      "name": "python3",
      "display_name": "Python 3"
    }
  },
  "cells": [
    {
      "cell_type": "markdown",
      "metadata": {
        "id": "view-in-github",
        "colab_type": "text"
      },
      "source": [
        "<a href=\"https://colab.research.google.com/github/Jdreioe/Numpy_JM/blob/main/NumPy.ipynb\" target=\"_parent\"><img src=\"https://colab.research.google.com/assets/colab-badge.svg\" alt=\"Open In Colab\"/></a>"
      ]
    },
    {
      "cell_type": "markdown",
      "metadata": {
        "id": "ofEJHHuLwS5B"
      },
      "source": [
        "testing"
      ]
    },
    {
      "cell_type": "markdown",
      "metadata": {
        "id": "CRW_5mr3npEY"
      },
      "source": [
        "# Jonas\r\n",
        "\r\n",
        "# Intro til NumPy"
      ]
    },
    {
      "cell_type": "markdown",
      "metadata": {
        "id": "ZZauRxphwoe2"
      },
      "source": [
        "## Oprettelse af array"
      ]
    },
    {
      "cell_type": "markdown",
      "metadata": {
        "id": "teDNHc65o_oi"
      },
      "source": [
        "her oprettes et array"
      ]
    },
    {
      "cell_type": "code",
      "metadata": {
        "colab": {
          "base_uri": "https://localhost:8080/"
        },
        "id": "CqUtLudrl-FY",
        "outputId": "17f8388c-fb38-4e8b-ce84-f900aa0661fb"
      },
      "source": [
        "import numpy as np\r\n",
        "data = np.array([5, 7, 10])\r\n",
        "data.max()\r\n",
        "print(data)"
      ],
      "execution_count": null,
      "outputs": [
        {
          "output_type": "stream",
          "text": [
            "[ 5  7 10]\n"
          ],
          "name": "stdout"
        }
      ]
    },
    {
      "cell_type": "code",
      "metadata": {
        "id": "WuYIFuw2v6au"
      },
      "source": [
        ""
      ],
      "execution_count": null,
      "outputs": []
    },
    {
      "cell_type": "markdown",
      "metadata": {
        "id": "zHFbDqAnpEuk"
      },
      "source": [
        "her er eksempler på simple arrays med ettere og nuller"
      ]
    },
    {
      "cell_type": "code",
      "metadata": {
        "colab": {
          "base_uri": "https://localhost:8080/"
        },
        "id": "GOM5-8T6oq2M",
        "outputId": "93a176d4-632e-4a91-8391-91be82710d60"
      },
      "source": [
        "ones = np.ones(6)\r\n",
        "print(ones)\r\n",
        "zeroes = np.zeros(6)\r\n",
        "print(zeroes)\r\n",
        "random=np.random.random(6)\r\n",
        "print(random)"
      ],
      "execution_count": null,
      "outputs": [
        {
          "output_type": "stream",
          "text": [
            "[1. 1. 1. 1. 1. 1.]\n",
            "[0. 0. 0. 0. 0. 0.]\n",
            "[0.72068732 0.53846389 0.07009206 0.57685675 0.83950517 0.90994675]\n"
          ],
          "name": "stdout"
        }
      ]
    },
    {
      "cell_type": "markdown",
      "metadata": {
        "id": "HCOArqlxpddY"
      },
      "source": [
        "## Array Arithmetic"
      ]
    },
    {
      "cell_type": "code",
      "metadata": {
        "colab": {
          "base_uri": "https://localhost:8080/"
        },
        "id": "zbYjgb_TpmGx",
        "outputId": "fb4ad8c5-1fdc-4439-b2dc-55c44d7371d2"
      },
      "source": [
        "print(data+data2)\r\n",
        "print(data+data3)"
      ],
      "execution_count": null,
      "outputs": [
        {
          "output_type": "stream",
          "text": [
            "[2. 3. 4.]\n",
            "[1. 2. 3.]\n"
          ],
          "name": "stdout"
        }
      ]
    },
    {
      "cell_type": "markdown",
      "metadata": {
        "id": "4Z_iXDX5qNkR"
      },
      "source": [
        "# Mikkel\r\n",
        "\r\n",
        "\r\n"
      ]
    },
    {
      "cell_type": "code",
      "metadata": {
        "colab": {
          "base_uri": "https://localhost:8080/"
        },
        "id": "YS8VgmbyrR9z",
        "outputId": "baf3a1ad-a1a3-4f1a-f3af-358ad7360e01"
      },
      "source": [
        "import numpy as np\r\n",
        "import math as mth\r\n",
        "\r\n",
        "testdata=np.array([1,2,3,4])\r\n",
        "testdata2=np.array([3,4,5,6])\r\n",
        "\r\n",
        "\r\n",
        "\r\n",
        "\r\n",
        "print(testdata[0:2]+testdata2[2:4])\r\n",
        "print(testdata[0:2],testdata2[2:4])"
      ],
      "execution_count": null,
      "outputs": [
        {
          "output_type": "stream",
          "text": [
            "[6 8]\n",
            "[1 2] [5 6]\n"
          ],
          "name": "stdout"
        }
      ]
    },
    {
      "cell_type": "markdown",
      "metadata": {
        "id": "OhF63WI0vayc"
      },
      "source": [
        "test34"
      ]
    }
  ]
}